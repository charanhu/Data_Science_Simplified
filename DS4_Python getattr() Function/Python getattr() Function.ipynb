{
 "cells": [
  {
   "cell_type": "markdown",
   "metadata": {},
   "source": [
    "# Python getattr() Function"
   ]
  },
  {
   "cell_type": "code",
   "execution_count": null,
   "metadata": {},
   "outputs": [],
   "source": [
    "# Python getattr() Function: The getattr() function returns the value of the\n",
    "# specified attribute (property or method) from the specified object.\n",
    "# If the specified attribute does not exist, default value is returned.\n",
    "\n",
    "# Syntax: getattr(object, attribute, default)\n",
    "# Parameters:\n",
    "#               object: object whose attribute is to be returned\n",
    "#               attribute: attribute name whose value is to be returned\n",
    "#               default: default value to be returned if the attribute does not exist\n",
    "\n",
    "# Return Value: value of the specified attribute"
   ]
  },
  {
   "cell_type": "code",
   "execution_count": 8,
   "metadata": {},
   "outputs": [
    {
     "name": "stdout",
     "output_type": "stream",
     "text": [
      "The age of Person  36\n",
      "The salary of Person  10000\n"
     ]
    }
   ],
   "source": [
    "# Example 1: getattr() function\n",
    "class Person:\n",
    "    def __init__(self, age):\n",
    "        self.age = age\n",
    "\n",
    "# create a Person object with age 36\n",
    "person = Person(36)\n",
    "\n",
    "# get the value of the attribute 'age'\n",
    "print('The age of Person ',getattr(person, 'age', 40))\n",
    "\n",
    "# get the value of the attribute 'salary'\n",
    "print('The salary of Person ',getattr(person, 'salary', 10000))"
   ]
  },
  {
   "cell_type": "code",
   "execution_count": null,
   "metadata": {},
   "outputs": [],
   "source": [
    "# Python getattr() Function for getting the value of a method or class attribute from an object or class respectively is shown in the following example."
   ]
  }
 ],
 "metadata": {
  "kernelspec": {
   "display_name": "Python 3.9.12 ('base')",
   "language": "python",
   "name": "python3"
  },
  "language_info": {
   "codemirror_mode": {
    "name": "ipython",
    "version": 3
   },
   "file_extension": ".py",
   "mimetype": "text/x-python",
   "name": "python",
   "nbconvert_exporter": "python",
   "pygments_lexer": "ipython3",
   "version": "3.9.12"
  },
  "orig_nbformat": 4,
  "vscode": {
   "interpreter": {
    "hash": "ad2bdc8ecc057115af97d19610ffacc2b4e99fae6737bb82f5d7fb13d2f2c186"
   }
  }
 },
 "nbformat": 4,
 "nbformat_minor": 2
}
